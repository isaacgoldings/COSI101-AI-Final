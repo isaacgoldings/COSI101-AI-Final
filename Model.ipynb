{
 "cells": [
  {
   "cell_type": "code",
   "execution_count": 1,
   "id": "6ea39d9f",
   "metadata": {},
   "outputs": [],
   "source": [
    "import torch\n",
    "import os\n",
    "import torchvision\n",
    "from torchvision import datasets, transforms\n",
    "from torch.utils.data import Dataset\n",
    "from torch import nn, optim\n",
    "import pandas as pd\n",
    "import numpy as np\n",
    "from PIL import Image\n",
    "from time import time\n",
    "import matplotlib.pyplot as plt"
   ]
  },
  {
   "cell_type": "code",
   "execution_count": 2,
   "id": "66c52f47",
   "metadata": {},
   "outputs": [
    {
     "name": "stdout",
     "output_type": "stream",
     "text": [
      "low\n"
     ]
    }
   ],
   "source": [
    "class TrainDatasetFromImages(Dataset):\n",
    "    def __init__(self, csv_path):\n",
    "        \"\"\"\n",
    "        Args:\n",
    "            csv_path (string): path to csv file\n",
    "            img_path (string): path to the folder where images are\n",
    "            transform: pytorch transforms for transforms and tensor conversion\n",
    "        \"\"\"\n",
    "        # Transforms\n",
    "        self.to_tensor = transforms.ToTensor()\n",
    "        # Read the csv file\n",
    "        self.data_info = pd.read_csv(csv_path, header=None)\n",
    "        # First column contains the image paths\n",
    "        self.image_arr = np.asarray(self.data_info.iloc[:, 0])\n",
    "        # Second column is the labels\n",
    "        self.label_arr = np.asarray(self.data_info.iloc[:, 1])\n",
    "        # Calculate len\n",
    "        self.data_len = len(self.data_info.index)\n",
    "\n",
    "    def __getitem__(self, index):\n",
    "        # Get image name from the pandas df\n",
    "        single_image_name = self.image_arr[index]\n",
    "        # Open image\n",
    "        img_as_img = Image.open(\"data/training/\"+single_image_name)\n",
    "\n",
    "        t = transforms.Resize((60,171))\n",
    "        \n",
    "        img_as_img = t(img_as_img)\n",
    "        \n",
    "        # Transform image to tensor\n",
    "        img_as_tensor = self.to_tensor(img_as_img)\n",
    "        \n",
    "        cropped_img = img_as_tensor[:,15:45,15:99]\n",
    "        # Get label(class) of the image based on the cropped pandas column\n",
    "        single_image_label = self.label_arr[index]\n",
    "\n",
    "        single_image_label = torch.tensor([single_image_label], dtype=torch.long)\n",
    "        \n",
    "        return (cropped_img, single_image_label)\n",
    "\n",
    "    def __len__(self):\n",
    "        return self.data_len\n",
    "\n",
    "#if __name__ == \"__main__\":\n",
    "    # Call dataset\n",
    "#    custom_mnist_from_images =  \\\n",
    "#        CustomDatasetFromImages('data/training')\n",
    "print(\"low\")"
   ]
  },
  {
   "cell_type": "code",
   "execution_count": 3,
   "id": "1521864d",
   "metadata": {},
   "outputs": [
    {
     "name": "stdout",
     "output_type": "stream",
     "text": [
      "tensor([[[1., 1., 1.,  ..., 1., 1., 1.],\n",
      "         [1., 1., 1.,  ..., 1., 1., 1.],\n",
      "         [1., 1., 1.,  ..., 1., 1., 1.],\n",
      "         ...,\n",
      "         [1., 1., 1.,  ..., 1., 1., 1.],\n",
      "         [1., 1., 1.,  ..., 1., 1., 1.],\n",
      "         [1., 1., 1.,  ..., 1., 1., 1.]]])\n"
     ]
    },
    {
     "data": {
      "image/png": "[encoded data removed]",
      "text/plain": [
       "<Figure size 432x288 with 1 Axes>"
      ]
     },
     "metadata": {
      "needs_background": "light"
     },
     "output_type": "display_data"
    }
   ],
   "source": [
    "train_data = TrainDatasetFromImages('data/training/labels-tab-csv.csv')\n",
    "\n",
    "#crop_data = []\n",
    "#for i in range(860):\n",
    "#    crop_data.append(train_data[i][0][:,15:45,15:99])\n",
    "    \n",
    "\n",
    "plt.imshow(train_data[2][0].numpy().squeeze(), cmap='gray_r');\n",
    "print(train_data[2][0])\n",
    "\n",
    "            \n",
    "        \n"
   ]
  },
  {
   "cell_type": "code",
   "execution_count": 4,
   "id": "384cf050",
   "metadata": {},
   "outputs": [],
   "source": [
    "input_size = 2520\n",
    "hidden_sizes = [250]\n",
    "output_size = 11 #might be an issue\n",
    "\n",
    "model = nn.Sequential(nn.Linear(input_size, hidden_sizes[0]),\n",
    "                      nn.LogSoftmax(dim=1))"
   ]
  },
  {
   "cell_type": "code",
   "execution_count": 5,
   "id": "431146c1",
   "metadata": {},
   "outputs": [
    {
     "name": "stdout",
     "output_type": "stream",
     "text": [
      "torch.Size([1, 2520]) torch.Size([1])\n",
      "Epoch 0 - Training loss: 2.5633507002231686\n",
      "Epoch 1 - Training loss: 2.417129504542018\n",
      "Epoch 2 - Training loss: 2.3511905574521355\n",
      "Epoch 3 - Training loss: 2.2915032293907434\n",
      "Epoch 4 - Training loss: 2.236939759933671\n",
      "Epoch 5 - Training loss: 2.1868032417325085\n",
      "Epoch 6 - Training loss: 2.1405287694792414\n",
      "Epoch 7 - Training loss: 2.0976358473994012\n",
      "Epoch 8 - Training loss: 2.057712793731412\n",
      "Epoch 9 - Training loss: 2.020406942381415\n",
      "Epoch 10 - Training loss: 1.9854155198779218\n",
      "Epoch 11 - Training loss: 1.9524786854206129\n",
      "Epoch 12 - Training loss: 1.921373332395803\n",
      "Epoch 13 - Training loss: 1.8919079428322094\n",
      "Epoch 14 - Training loss: 1.8639173646998959\n",
      "Epoch 15 - Training loss: 1.8372592838177848\n",
      "Epoch 16 - Training loss: 1.8118104782735192\n",
      "Epoch 17 - Training loss: 1.787464246015216\n",
      "Epoch 18 - Training loss: 1.7641272182294796\n",
      "Epoch 19 - Training loss: 1.7417185323356197\n",
      "Epoch 20 - Training loss: 1.7201665352943332\n",
      "Epoch 21 - Training loss: 1.6994085504998302\n",
      "Epoch 22 - Training loss: 1.6793891140974537\n",
      "Epoch 23 - Training loss: 1.6600586172886367\n",
      "Epoch 24 - Training loss: 1.6413731748714697\n",
      "Epoch 25 - Training loss: 1.6232929004529535\n",
      "Epoch 26 - Training loss: 1.605782217826954\n",
      "Epoch 27 - Training loss: 1.5888087225947962\n",
      "Epoch 28 - Training loss: 1.572342821886373\n",
      "Epoch 29 - Training loss: 1.5563578229744075\n",
      "Epoch 30 - Training loss: 1.5408287685884292\n",
      "Epoch 31 - Training loss: 1.5257330216770602\n",
      "Epoch 32 - Training loss: 1.5110494909093304\n",
      "Epoch 33 - Training loss: 1.4967588073768934\n",
      "Epoch 34 - Training loss: 1.482842820642386\n",
      "Epoch 35 - Training loss: 1.4692847504973585\n",
      "Epoch 36 - Training loss: 1.4560687703708577\n",
      "Epoch 37 - Training loss: 1.4431800050855896\n",
      "Epoch 38 - Training loss: 1.4306048683345665\n",
      "Epoch 39 - Training loss: 1.4183303029861214\n",
      "Epoch 40 - Training loss: 1.4063440176116866\n",
      "Epoch 41 - Training loss: 1.3946346563893521\n",
      "Epoch 42 - Training loss: 1.3831912555320318\n",
      "Epoch 43 - Training loss: 1.372003518377409\n",
      "Epoch 44 - Training loss: 1.3610618789192983\n",
      "Epoch 45 - Training loss: 1.3503569902798032\n",
      "Epoch 46 - Training loss: 1.3398802510062016\n",
      "Epoch 47 - Training loss: 1.329623296972754\n",
      "Epoch 48 - Training loss: 1.319578491829249\n",
      "Epoch 49 - Training loss: 1.3097382113413323\n",
      "Epoch 50 - Training loss: 1.3000955101817326\n",
      "Epoch 51 - Training loss: 1.2906433936587514\n",
      "Epoch 52 - Training loss: 1.2813757979885003\n",
      "Epoch 53 - Training loss: 1.2722862701538171\n",
      "Epoch 54 - Training loss: 1.263369072005586\n",
      "Epoch 55 - Training loss: 1.25461868872043\n",
      "Epoch 56 - Training loss: 1.246029749956675\n",
      "Epoch 57 - Training loss: 1.2375972024424997\n",
      "Epoch 58 - Training loss: 1.2293161799708858\n",
      "Epoch 59 - Training loss: 1.2211817963861016\n",
      "Epoch 60 - Training loss: 1.2131898026935064\n",
      "Epoch 61 - Training loss: 1.2053357543754066\n",
      "Epoch 62 - Training loss: 1.1976157528846416\n",
      "Epoch 63 - Training loss: 1.1900255201730965\n",
      "Epoch 64 - Training loss: 1.1825614625669278\n",
      "Epoch 65 - Training loss: 1.1752198641524152\n",
      "Epoch 66 - Training loss: 1.1679972140389212\n",
      "Epoch 67 - Training loss: 1.1608901152268138\n",
      "Epoch 68 - Training loss: 1.1538953314751907\n",
      "Epoch 69 - Training loss: 1.147009526873224\n",
      "Epoch 70 - Training loss: 1.1402297612382533\n",
      "Epoch 71 - Training loss: 1.1335532690503982\n",
      "Epoch 72 - Training loss: 1.1269768720468354\n",
      "Epoch 73 - Training loss: 1.1204981581486633\n",
      "Epoch 74 - Training loss: 1.1141144806321515\n",
      "\n",
      "Training Time (in minutes) = 4.665150042374929\n"
     ]
    }
   ],
   "source": [
    "criterion = nn.NLLLoss()\n",
    "images, labels = next(iter(train_data))\n",
    "images = images.reshape(images.shape[0], -1)\n",
    "logps = model(images) \n",
    "print(images.shape, labels.shape)\n",
    "loss = criterion(logps, labels)\n",
    "\n",
    "\n",
    "optimizer = optim.SGD(model.parameters(), lr=0.0001, momentum=0.91)\n",
    "time0 = time()\n",
    "epochs = 75\n",
    "for e in range(epochs):\n",
    "    running_loss = 0\n",
    "    for images, labels in train_data:\n",
    "        images = images.reshape(images.shape[0], -1)\n",
    "    \n",
    "        optimizer.zero_grad()\n",
    "        \n",
    "        output = model(images)\n",
    "        loss = criterion(output, labels)\n",
    "        \n",
    "        loss.backward()\n",
    "        \n",
    "        optimizer.step()\n",
    "        \n",
    "        running_loss += loss.item()\n",
    "    else:\n",
    "        print(\"Epoch {} - Training loss: {}\".format(e, running_loss/len(train_data)))\n",
    "\n",
    "print(\"\\nTraining Time (in minutes) =\",(time()-time0)/60)"
   ]
  },
  {
   "cell_type": "code",
   "execution_count": 6,
   "id": "b2ab81cb",
   "metadata": {},
   "outputs": [
    {
     "name": "stdout",
     "output_type": "stream",
     "text": [
      "Number Of Images Tested = 860\n",
      "\n",
      "Model Accuracy = 0.7430232558139535\n"
     ]
    }
   ],
   "source": [
    "valloader = TrainDatasetFromImages('data/training/labels-tab-csv.csv')\n",
    "\n",
    "correct_count, all_count = 0, 0\n",
    "for images,labels in valloader:\n",
    "  for i in range(len(labels)):\n",
    "    img = images[i].reshape(1, 2520)\n",
    "    with torch.no_grad():\n",
    "        logps = model(img)\n",
    "\n",
    "    \n",
    "    ps = torch.exp(logps)\n",
    "    probab = list(ps.numpy()[0])\n",
    "    pred_label = probab.index(max(probab))\n",
    "    #print(pred_label)\n",
    "    \n",
    "    true_label = labels.numpy()[i]\n",
    "    if(true_label == pred_label):\n",
    "      correct_count += 1\n",
    "    all_count += 1\n",
    "\n",
    "print(\"Number Of Images Tested =\", all_count)\n",
    "print(\"\\nModel Accuracy =\", (correct_count/all_count))\n",
    "\n"
   ]
  },
  {
   "cell_type": "code",
   "execution_count": null,
   "id": "f67b0e92",
   "metadata": {},
   "outputs": [],
   "source": []
  },
  {
   "cell_type": "code",
   "execution_count": null,
   "id": "10662f57",
   "metadata": {},
   "outputs": [],
   "source": []
  },
  {
   "cell_type": "code",
   "execution_count": null,
   "id": "48433d1f",
   "metadata": {},
   "outputs": [],
   "source": []
  }
 ],
 "metadata": {
  "kernelspec": {
   "display_name": "Python 3 (ipykernel)",
   "language": "python",
   "name": "python3"
  },
  "language_info": {
   "codemirror_mode": {
    "name": "ipython",
    "version": 3
   },
   "file_extension": ".py",
   "mimetype": "text/x-python",
   "name": "python",
   "nbconvert_exporter": "python",
   "pygments_lexer": "ipython3",
   "version": "3.9.7"
  }
 },
 "nbformat": 4,
 "nbformat_minor": 5
}
