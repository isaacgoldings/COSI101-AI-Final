{
 "cells": [
  {
   "cell_type": "code",
   "execution_count": 8,
   "id": "f8016590",
   "metadata": {},
   "outputs": [],
   "source": [
    "import torch\n",
    "import os\n",
    "import torchvision\n",
    "from torchvision import datasets, transforms\n",
    "from torch.utils.data import Dataset\n",
    "import pandas as pd\n",
    "import numpy as np\n",
    "from PIL import Image"
   ]
  },
  {
   "cell_type": "code",
   "execution_count": 11,
   "id": "26c454c0",
   "metadata": {},
   "outputs": [],
   "source": [
    "class CustomDatasetFromImages(Dataset):\n",
    "    def __init__(self, csv_path):\n",
    "        \"\"\"\n",
    "        Args:\n",
    "            csv_path (string): path to csv file\n",
    "            img_path (string): path to the folder where images are\n",
    "            transform: pytorch transforms for transforms and tensor conversion\n",
    "        \"\"\"\n",
    "        # Transforms\n",
    "        self.to_tensor = transforms.ToTensor()\n",
    "        # Read the csv file\n",
    "        self.data_info = pd.read_csv(csv_path, header=None)\n",
    "        print(self.data_info)\n",
    "        # First column contains the image paths\n",
    "        self.image_arr = np.asarray(self.data_info.iloc[:, 0])\n",
    "        # Second column is the labels\n",
    "        self.label_arr = np.asarray(self.data_info.iloc[:, 1])\n",
    "        # Calculate len\n",
    "        self.data_len = len(self.data_info.index)\n",
    "\n",
    "    def __getitem__(self, index):\n",
    "        # Get image name from the pandas df\n",
    "        single_image_name = self.image_arr[index]\n",
    "        # Open image\n",
    "        img_as_img = Image.open(\"data/training/\"+single_image_name)\n",
    "\n",
    "\n",
    "        # Transform image to tensor\n",
    "        img_as_tensor = self.to_tensor(img_as_img)\n",
    "\n",
    "        # Get label(class) of the image based on the cropped pandas column\n",
    "        single_image_label = self.label_arr[index]\n",
    "\n",
    "        return (img_as_tensor, single_image_label)\n",
    "\n",
    "    def __len__(self):\n",
    "        return self.data_len\n",
    "\n",
    "#if __name__ == \"__main__\":\n",
    "    # Call dataset\n",
    "#    custom_mnist_from_images =  \\\n",
    "#        CustomDatasetFromImages('data/training')"
   ]
  },
  {
   "cell_type": "code",
   "execution_count": 12,
   "id": "d94b9506",
   "metadata": {},
   "outputs": [
    {
     "name": "stdout",
     "output_type": "stream",
     "text": [
      "            0   1\n",
      "0    0001.png   1\n",
      "1    0002.png   2\n",
      "2    0003.png   3\n",
      "3    0004.png   4\n",
      "4    0005.png   5\n",
      "..        ...  ..\n",
      "855  0856.png   6\n",
      "856  0857.png   7\n",
      "857  0858.png   8\n",
      "858  0859.png   9\n",
      "859  0860.png  10\n",
      "\n",
      "[860 rows x 2 columns]\n",
      "(tensor([[[0.9922, 0.9922, 0.9922,  ..., 0.9922, 0.9922, 0.9922],\n",
      "         [0.9922, 0.9922, 0.9922,  ..., 0.9922, 0.9922, 0.9922],\n",
      "         [0.9922, 0.9922, 0.9922,  ..., 0.9922, 0.9922, 0.9922],\n",
      "         ...,\n",
      "         [0.9922, 0.9922, 0.9922,  ..., 0.9922, 0.9922, 0.9922],\n",
      "         [0.9922, 0.9922, 0.9922,  ..., 0.9922, 0.9922, 0.9922],\n",
      "         [0.9922, 0.9922, 0.9922,  ..., 0.9922, 0.9922, 0.9922]]]), 1)\n"
     ]
    }
   ],
   "source": [
    "#TRAIN_PATH = 'data/training'\n",
    "train_data = CustomDatasetFromImages('data/training/labels-tab-csv.csv')\n",
    "#train_loader = torch.utils.data.DataLoader(train_data, batch_size=16, shuffle=True)\n",
    "\n",
    "print(train_data[0])"
   ]
  },
  {
   "cell_type": "code",
   "execution_count": null,
   "id": "2e7e63a3",
   "metadata": {},
   "outputs": [],
   "source": []
  }
 ],
 "metadata": {
  "kernelspec": {
   "display_name": "Python 3 (ipykernel)",
   "language": "python",
   "name": "python3"
  },
  "language_info": {
   "codemirror_mode": {
    "name": "ipython",
    "version": 3
   },
   "file_extension": ".py",
   "mimetype": "text/x-python",
   "name": "python",
   "nbconvert_exporter": "python",
   "pygments_lexer": "ipython3",
   "version": "3.9.7"
  }
 },
 "nbformat": 4,
 "nbformat_minor": 5
}
