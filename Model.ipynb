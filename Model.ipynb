{
 "cells": [
  {
   "cell_type": "code",
<<<<<<< HEAD
   "execution_count": 1,
=======
   "execution_count": null,
>>>>>>> 4019fce79378b9fb5ab336fda6dd2e51664f6829
   "id": "6ea39d9f",
   "metadata": {},
   "outputs": [],
   "source": [
    "import torch\n",
    "import os\n",
    "import csv\n",
    "import torchvision\n",
    "from torchvision import datasets, transforms\n",
    "from torch.utils.data import Dataset\n",
    "from torch import nn, optim\n",
    "import pandas as pd\n",
    "import numpy as np\n",
    "from PIL import Image\n",
    "from time import time\n",
    "import matplotlib.pyplot as plt\n",
    "\n",
    "import glob"
   ]
  },
  {
   "cell_type": "code",
   "execution_count": null,
   "id": "66c52f47",
   "metadata": {},
   "outputs": [],
   "source": [
    "class TrainDatasetFromImages(Dataset):\n",
    "    def __init__(self, csv_path):\n",
    "        \"\"\"\n",
    "        Args:\n",
    "            csv_path (string): path to csv file\n",
    "            img_path (string): path to the folder where images are\n",
    "            transform: pytorch transforms for transforms and tensor conversion\n",
    "        \"\"\"\n",
    "        # Transforms\n",
    "        self.to_tensor = transforms.ToTensor()\n",
    "        # Read the csv file\n",
    "        self.data_info = pd.read_csv(csv_path, header=None)\n",
    "        # First column contains the image paths\n",
    "        self.image_arr = np.asarray(self.data_info.iloc[:, 0])\n",
    "        # Second column is the labels\n",
    "        self.label_arr = np.asarray(self.data_info.iloc[:, 1])\n",
    "        # Calculate len\n",
    "        self.data_len = len(self.data_info.index)\n",
    "\n",
    "    def __getitem__(self, index):\n",
    "        # Get image name from the pandas df\n",
    "        single_image_name = self.image_arr[index]\n",
    "        # Open image\n",
    "        img_as_img = Image.open(\"data/training/\"+single_image_name)\n",
    "\n",
    "        t = transforms.Resize((60,171))\n",
    "        \n",
    "        img_as_img = t(img_as_img)\n",
    "        \n",
    "        # Transform image to tensor\n",
    "        img_as_tensor = self.to_tensor(img_as_img)\n",
    "        \n",
    "        cropped_img = img_as_tensor[:,15:45,15:99]\n",
    "        # Get label(class) of the image based on the cropped pandas column\n",
    "        single_image_label = self.label_arr[index]\n",
    "\n",
    "        single_image_label = torch.tensor([single_image_label], dtype=torch.long)\n",
    "        \n",
    "        return (cropped_img, single_image_label)\n",
    "\n",
    "    def __len__(self):\n",
    "        return self.data_len\n",
    "\n",
    "#if __name__ == \"__main__\":\n",
    "    # Call dataset\n",
    "#    custom_mnist_from_images =  \\\n",
    "#        CustomDatasetFromImages('data/training')\n",
    "print(\"low\")"
   ]
  },
  {
   "cell_type": "code",
   "execution_count": null,
   "id": "1521864d",
   "metadata": {},
<<<<<<< HEAD
   "outputs": [
    {
     "name": "stdout",
     "output_type": "stream",
     "text": [
      "tensor([[[1., 1., 1.,  ..., 1., 1., 1.],\n",
      "         [1., 1., 1.,  ..., 1., 1., 1.],\n",
      "         [1., 1., 1.,  ..., 1., 1., 1.],\n",
      "         ...,\n",
      "         [1., 1., 1.,  ..., 1., 1., 1.],\n",
      "         [1., 1., 1.,  ..., 1., 1., 1.],\n",
      "         [1., 1., 1.,  ..., 1., 1., 1.]]])\n"
     ]
    },
    {
     "data": {
      "image/png": "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\n",
      "text/plain": [
       "<Figure size 432x288 with 1 Axes>"
      ]
     },
     "metadata": {
      "needs_background": "light"
     },
     "output_type": "display_data"
    }
   ],
=======
   "outputs": [],
>>>>>>> 4019fce79378b9fb5ab336fda6dd2e51664f6829
   "source": [
    "train_data = TrainDatasetFromImages('data/training/labels-tab-csv.csv')\n",
    "\n",
    "#crop_data = []\n",
    "#for i in range(860):\n",
    "#    crop_data.append(train_data[i][0][:,15:45,15:99])\n",
    "    \n",
    "\n",
    "plt.imshow(train_data[2][0].numpy().squeeze(), cmap='gray_r');\n",
    "print(train_data[2][0])\n",
    "\n",
    "            \n",
    "        \n"
   ]
  },
  {
   "cell_type": "code",
   "execution_count": null,
   "id": "384cf050",
   "metadata": {},
   "outputs": [],
   "source": [
    "input_size = 2520\n",
    "hidden_sizes = [250]\n",
    "output_size = 11 #might be an issue\n",
    "\n",
    "model = nn.Sequential(nn.Linear(input_size, hidden_sizes[0]),\n",
    "                      nn.LogSoftmax(dim=1))"
   ]
  },
  {
   "cell_type": "code",
<<<<<<< HEAD
   "execution_count": 8,
   "id": "431146c1",
   "metadata": {},
   "outputs": [
    {
     "name": "stdout",
     "output_type": "stream",
     "text": [
      "torch.Size([1, 2520]) torch.Size([1])\n",
      "Epoch 0 - Training loss: 1.2908658371480226\n",
      "Epoch 1 - Training loss: 1.2811760707736708\n",
      "Epoch 2 - Training loss: 1.2721040806787218\n",
      "Epoch 3 - Training loss: 1.2632040041969916\n",
      "Epoch 4 - Training loss: 1.2544704487476888\n",
      "Epoch 5 - Training loss: 1.2458979822191691\n",
      "Epoch 6 - Training loss: 1.2374812864286955\n",
      "Epoch 7 - Training loss: 1.2292156683411015\n",
      "Epoch 8 - Training loss: 1.221096247898653\n",
      "Epoch 9 - Training loss: 1.2131186593567607\n",
      "Epoch 10 - Training loss: 1.2052783709024837\n",
      "Epoch 11 - Training loss: 1.1975714200777328\n",
      "Epoch 12 - Training loss: 1.1899938376891146\n",
      "Epoch 13 - Training loss: 1.1825416203523271\n",
      "Epoch 14 - Training loss: 1.1752112653777869\n",
      "Epoch 15 - Training loss: 1.167998978124693\n",
      "Epoch 16 - Training loss: 1.1609017687763066\n",
      "Epoch 17 - Training loss: 1.1539161080359157\n",
      "Epoch 18 - Training loss: 1.1470389742463785\n",
      "Epoch 19 - Training loss: 1.1402671562662066\n",
      "Epoch 20 - Training loss: 1.1335978833005524\n",
      "Epoch 21 - Training loss: 1.12702826478459\n",
      "Epoch 22 - Training loss: 1.1205554909064694\n",
      "Epoch 23 - Training loss: 1.1141770212153017\n",
      "Epoch 24 - Training loss: 1.1078903260004578\n",
      "Epoch 25 - Training loss: 1.1016929236024098\n",
      "Epoch 26 - Training loss: 1.095582373887788\n",
      "Epoch 27 - Training loss: 1.089556472270403\n",
      "Epoch 28 - Training loss: 1.0836129964857233\n",
      "Epoch 29 - Training loss: 1.0777496650100273\n",
      "Epoch 30 - Training loss: 1.0719645909464182\n",
      "Epoch 31 - Training loss: 1.066255574246197\n",
      "Epoch 32 - Training loss: 1.0606209943138691\n",
      "Epoch 33 - Training loss: 1.0550585522500495\n",
      "Epoch 34 - Training loss: 1.0495667602791083\n",
      "Epoch 35 - Training loss: 1.0441436686052203\n",
      "Epoch 36 - Training loss: 1.038787663927529\n",
      "Epoch 37 - Training loss: 1.0334971175363916\n",
      "Epoch 38 - Training loss: 1.0282703360277337\n",
      "Epoch 39 - Training loss: 1.0231060223012274\n",
      "Epoch 40 - Training loss: 1.0180023643656546\n",
      "Epoch 41 - Training loss: 1.0129581031795634\n",
      "Epoch 42 - Training loss: 1.0079718574202012\n",
      "Epoch 43 - Training loss: 1.0030422099955314\n",
      "Epoch 44 - Training loss: 0.9981679908244946\n",
      "Epoch 45 - Training loss: 0.9933479075860178\n",
      "Epoch 46 - Training loss: 0.9885805978217747\n",
      "Epoch 47 - Training loss: 0.9838650139977311\n",
      "Epoch 48 - Training loss: 0.9792001535135949\n",
      "Epoch 49 - Training loss: 0.9745846446963612\n",
      "\n",
      "Training Time (in minutes) = 2.540465215841929\n"
     ]
    }
   ],
=======
   "execution_count": null,
   "id": "431146c1",
   "metadata": {},
   "outputs": [],
>>>>>>> 4019fce79378b9fb5ab336fda6dd2e51664f6829
   "source": [
    "criterion = nn.NLLLoss()\n",
    "images, labels = next(iter(train_data))\n",
    "images = images.reshape(images.shape[0], -1)\n",
    "logps = model(images) \n",
    "print(images.shape, labels.shape)\n",
    "loss = criterion(logps, labels)\n",
    "\n",
    "\n",
    "optimizer = optim.SGD(model.parameters(), lr=0.0001, momentum=0.925)\n",
    "time0 = time()\n",
    "epochs = 50\n",
    "epochChart = []\n",
    "for e in range(epochs):\n",
    "    running_loss = 0\n",
    "    for images, labels in train_data:\n",
    "        images = images.reshape(images.shape[0], -1)\n",
    "    \n",
    "        optimizer.zero_grad()\n",
    "        \n",
    "        output = model(images)\n",
    "        loss = criterion(output, labels)\n",
    "        \n",
    "        loss.backward()\n",
    "        \n",
    "        optimizer.step()\n",
    "        \n",
    "        running_loss += loss.item()\n",
    "    else:\n",
    "        epochChart.append([e,running_loss])\n",
    "        print(\"Epoch {} - Training loss: {}\".format(e, running_loss/len(train_data)))\n",
    "\n",
    "print(\"\\nTraining Time (in minutes) =\",(time()-time0)/60)"
   ]
  },
  {
   "cell_type": "code",
<<<<<<< HEAD
   "execution_count": 9,
   "id": "b2ab81cb",
   "metadata": {},
   "outputs": [
    {
     "name": "stdout",
     "output_type": "stream",
     "text": [
      "Number Of Images Tested = 860\n",
      "\n",
      "Model Accuracy = 0.7790697674418605\n"
     ]
    }
   ],
=======
   "execution_count": null,
   "id": "b2ab81cb",
   "metadata": {},
   "outputs": [],
>>>>>>> 4019fce79378b9fb5ab336fda6dd2e51664f6829
   "source": [
    "valloader = TrainDatasetFromImages('data/training/labels-tab-csv.csv')\n",
    "\n",
    "correct_count, all_count = 0, 0\n",
    "for images,labels in valloader:\n",
    "  for i in range(len(labels)):\n",
    "    img = images[i].reshape(1, 2520)\n",
    "    with torch.no_grad():\n",
    "        logps = model(img)\n",
    "\n",
    "    \n",
    "    ps = torch.exp(logps)\n",
    "    probab = list(ps.numpy()[0])\n",
    "    pred_label = probab.index(max(probab))\n",
    "    #print(pred_label)\n",
    "    \n",
    "    true_label = labels.numpy()[i]\n",
    "    if(true_label == pred_label):\n",
    "      correct_count += 1\n",
    "    all_count += 1\n",
    "\n",
    "print(\"Number Of Images Tested =\", all_count)\n",
    "print(\"\\nModel Accuracy =\", (correct_count/all_count))\n",
    "\n"
   ]
  },
  {
   "cell_type": "code",
<<<<<<< HEAD
   "execution_count": 28,
   "id": "b6025855",
   "metadata": {},
   "outputs": [
    {
     "data": {
      "image/png": "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\n",
      "text/plain": [
       "<Figure size 1080x576 with 1 Axes>"
      ]
     },
     "metadata": {},
     "output_type": "display_data"
    }
   ],
   "source": [
    "import seaborn as sns\n",
    "sns.set_theme(style=\"whitegrid\")\n",
    "df = pd.DataFrame(epochChart)\n",
    "df[1] = (df[1] / 860).round(3)\n",
    "sns.set(rc = {'figure.figsize':(15,8)})\n",
    "df.rename(columns = {0:'Epoch', 1:'Training Loss'}, inplace = True)\n",
    "# df.head()\n",
    "ax = sns.barplot(x='Epoch', y='Training Loss', data=df)\n",
    "# df.head()\n"
   ]
  },
  {
   "cell_type": "code",
   "execution_count": 24,
=======
   "execution_count": null,
>>>>>>> 4019fce79378b9fb5ab336fda6dd2e51664f6829
   "id": "f67b0e92",
   "metadata": {},
   "outputs": [],
   "source": [
    "filelist = glob.glob('data/Toy_test/*.png')\n",
    "\n",
    "test_data = []\n",
    "\n",
    "for x in filelist:\n",
    "    img = Image.open(x)\n",
    "    t = transforms.Resize((60,171))\n",
    "    t1 = transforms.ToTensor()\n",
    "        \n",
    "    img = t(img)\n",
    "        \n",
    "    # Transform image to tensor\n",
    "    img = t1(img)\n",
    "        \n",
    "    img = img[:,15:45,15:99]\n",
    "    #img = torch.tensor([img], dtype=torch.long)\n",
    "    test_data.append(img.squeeze())\n",
    "    \n",
    "\n",
    "predictions = []\n",
    "for i in range(len(test_data)):\n",
    "    img = test_data[i].reshape(1, 2520)\n",
    "    with torch.no_grad():\n",
    "        logps = model(img)\n",
    "\n",
    "    \n",
    "    ps = torch.exp(logps)\n",
    "    probab = list(ps.numpy()[0])\n",
    "    pred_label = probab.index(max(probab))\n",
    "    predictions.append(pred_label)\n",
    "\n",
    "with open('predictions', 'w') as f:\n",
    "    # create the csv writer\n",
    "    writer = csv.writer(f)\n",
    "    \n",
    "    writer.writerows([i] for i in predictions)\n",
    "#plt.imshow(test_data[30][0].numpy().squeeze(), cmap='gray_r');\n",
    "#print(test_data[30])"
   ]
  },
  {
   "cell_type": "code",
   "execution_count": null,
   "id": "e77b9871",
   "metadata": {},
   "outputs": [],
   "source": []
  }
 ],
 "metadata": {
  "kernelspec": {
   "display_name": "Python 3 (ipykernel)",
   "language": "python",
   "name": "python3"
  },
  "language_info": {
   "codemirror_mode": {
    "name": "ipython",
    "version": 3
   },
   "file_extension": ".py",
   "mimetype": "text/x-python",
   "name": "python",
   "nbconvert_exporter": "python",
   "pygments_lexer": "ipython3",
   "version": "3.10.2"
  }
 },
 "nbformat": 4,
 "nbformat_minor": 5
}
