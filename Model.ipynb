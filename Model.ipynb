{
 "cells": [
  {
   "cell_type": "code",
   "execution_count": 8,
   "id": "6ea39d9f",
   "metadata": {},
   "outputs": [],
   "source": [
    "import torch\n",
    "import os\n",
    "import csv\n",
    "import torchvision\n",
    "from torchvision import datasets, transforms\n",
    "from torch.utils.data import Dataset\n",
    "from torch import nn, optim\n",
    "import pandas as pd\n",
    "import numpy as np\n",
    "from PIL import Image\n",
    "from time import time\n",
    "import matplotlib.pyplot as plt\n",
    "\n",
    "import glob"
   ]
  },
  {
   "cell_type": "code",
   "execution_count": 9,
   "id": "66c52f47",
   "metadata": {},
   "outputs": [
    {
     "name": "stdout",
     "output_type": "stream",
     "text": [
      "low\n"
     ]
    }
   ],
   "source": [
    "class TrainDatasetFromImages(Dataset):\n",
    "    def __init__(self, csv_path):\n",
    "        \"\"\"\n",
    "        Args:\n",
    "            csv_path (string): path to csv file\n",
    "            img_path (string): path to the folder where images are\n",
    "            transform: pytorch transforms for transforms and tensor conversion\n",
    "        \"\"\"\n",
    "        # Transforms\n",
    "        self.to_tensor = transforms.ToTensor()\n",
    "        # Read the csv file\n",
    "        self.data_info = pd.read_csv(csv_path, header=None)\n",
    "        # First column contains the image paths\n",
    "        self.image_arr = np.asarray(self.data_info.iloc[:, 0])\n",
    "        # Second column is the labels\n",
    "        self.label_arr = np.asarray(self.data_info.iloc[:, 1])\n",
    "        # Calculate len\n",
    "        self.data_len = len(self.data_info.index)\n",
    "\n",
    "    def __getitem__(self, index):\n",
    "        # Get image name from the pandas df\n",
    "        single_image_name = self.image_arr[index]\n",
    "        # Open image\n",
    "        img_as_img = Image.open(\"data/training/\"+single_image_name)\n",
    "\n",
    "        t = transforms.Resize((60,171))\n",
    "        \n",
    "        img_as_img = t(img_as_img)\n",
    "        \n",
    "        # Transform image to tensor\n",
    "        img_as_tensor = self.to_tensor(img_as_img)\n",
    "        \n",
    "        cropped_img = img_as_tensor[:,15:45,15:99]\n",
    "        # Get label(class) of the image based on the cropped pandas column\n",
    "        single_image_label = self.label_arr[index]\n",
    "\n",
    "        single_image_label = torch.tensor([single_image_label], dtype=torch.long)\n",
    "        \n",
    "        return (cropped_img, single_image_label)\n",
    "\n",
    "    def __len__(self):\n",
    "        return self.data_len\n",
    "\n",
    "#if __name__ == \"__main__\":\n",
    "    # Call dataset\n",
    "#    custom_mnist_from_images =  \\\n",
    "#        CustomDatasetFromImages('data/training')\n",
    "print(\"low\")"
   ]
  },
  {
   "cell_type": "code",
   "execution_count": 10,
   "id": "1521864d",
   "metadata": {},
   "outputs": [
    {
     "name": "stdout",
     "output_type": "stream",
     "text": [
      "tensor([[[1., 1., 1.,  ..., 1., 1., 1.],\n",
      "         [1., 1., 1.,  ..., 1., 1., 1.],\n",
      "         [1., 1., 1.,  ..., 1., 1., 1.],\n",
      "         ...,\n",
      "         [1., 1., 1.,  ..., 1., 1., 1.],\n",
      "         [1., 1., 1.,  ..., 1., 1., 1.],\n",
      "         [1., 1., 1.,  ..., 1., 1., 1.]]])\n"
     ]
    },
    {
     "data": {
      "image/png": "[encoded data removed]",
      "text/plain": [
       "<Figure size 432x288 with 1 Axes>"
      ]
     },
     "metadata": {
      "needs_background": "light"
     },
     "output_type": "display_data"
    }
   ],
   "source": [
    "train_data = TrainDatasetFromImages('data/training/labels-tab-csv.csv')\n",
    "\n",
    "#crop_data = []\n",
    "#for i in range(860):\n",
    "#    crop_data.append(train_data[i][0][:,15:45,15:99])\n",
    "    \n",
    "\n",
    "plt.imshow(train_data[2][0].numpy().squeeze(), cmap='gray_r');\n",
    "print(train_data[2][0])\n",
    "\n",
    "            \n",
    "        \n"
   ]
  },
  {
   "cell_type": "code",
   "execution_count": 11,
   "id": "384cf050",
   "metadata": {},
   "outputs": [],
   "source": [
    "input_size = 2520\n",
    "hidden_sizes = [250]\n",
    "output_size = 11 #might be an issue\n",
    "\n",
    "model = nn.Sequential(nn.Linear(input_size, hidden_sizes[0]),\n",
    "                      nn.LogSoftmax(dim=1))"
   ]
  },
  {
   "cell_type": "code",
   "execution_count": 12,
   "id": "431146c1",
   "metadata": {},
   "outputs": [
    {
     "name": "stdout",
     "output_type": "stream",
     "text": [
      "torch.Size([1, 2520]) torch.Size([1])\n",
      "Epoch 0 - Training loss: 2.554965603351593\n",
      "Epoch 1 - Training loss: 2.4017922854700755\n",
      "Epoch 2 - Training loss: 2.3259816819845245\n",
      "Epoch 3 - Training loss: 2.2583553634410682\n",
      "Epoch 4 - Training loss: 2.197456144732098\n",
      "Epoch 5 - Training loss: 2.1422325294378193\n",
      "Epoch 6 - Training loss: 2.0918354337298593\n",
      "Epoch 7 - Training loss: 2.0455676255877626\n",
      "Epoch 8 - Training loss: 2.0028505539824795\n",
      "Epoch 9 - Training loss: 1.9632018975566985\n",
      "Epoch 10 - Training loss: 1.926218129659808\n",
      "Epoch 11 - Training loss: 1.8915618466776472\n",
      "Epoch 12 - Training loss: 1.858949833016756\n",
      "Epoch 13 - Training loss: 1.8281443653065106\n",
      "Epoch 14 - Training loss: 1.7989455243789179\n",
      "Epoch 15 - Training loss: 1.7711847798855498\n",
      "Epoch 16 - Training loss: 1.7447198225661766\n",
      "Epoch 17 - Training loss: 1.7194296356810386\n",
      "Epoch 18 - Training loss: 1.6952115459497585\n",
      "Epoch 19 - Training loss: 1.671977118134152\n",
      "Epoch 20 - Training loss: 1.649650542100155\n",
      "Epoch 21 - Training loss: 1.628165882964467\n",
      "Epoch 22 - Training loss: 1.6074654239771324\n",
      "Epoch 23 - Training loss: 1.5874988025747412\n",
      "Epoch 24 - Training loss: 1.5682209510702727\n",
      "Epoch 25 - Training loss: 1.5495918187551028\n",
      "Epoch 26 - Training loss: 1.5315751215832871\n",
      "Epoch 27 - Training loss: 1.5141379904760004\n",
      "Epoch 28 - Training loss: 1.4972502277839148\n",
      "Epoch 29 - Training loss: 1.4808840122008913\n",
      "Epoch 30 - Training loss: 1.4650136861950158\n",
      "Epoch 31 - Training loss: 1.4496152473202104\n",
      "Epoch 32 - Training loss: 1.434666255112131\n",
      "Epoch 33 - Training loss: 1.420145713204388\n",
      "Epoch 34 - Training loss: 1.406033959846164\n",
      "Epoch 35 - Training loss: 1.3923123546150449\n",
      "Epoch 36 - Training loss: 1.3789635083930523\n",
      "Epoch 37 - Training loss: 1.3659709534066362\n",
      "Epoch 38 - Training loss: 1.3533190554105352\n",
      "Epoch 39 - Training loss: 1.3409932039699755\n",
      "Epoch 40 - Training loss: 1.328979446485552\n",
      "Epoch 41 - Training loss: 1.3172648869444032\n",
      "Epoch 42 - Training loss: 1.30583689951901\n",
      "Epoch 43 - Training loss: 1.2946840067697298\n",
      "Epoch 44 - Training loss: 1.2837948930309002\n",
      "Epoch 45 - Training loss: 1.2731593983648561\n",
      "Epoch 46 - Training loss: 1.262767235956393\n",
      "Epoch 47 - Training loss: 1.2526094356351423\n",
      "Epoch 48 - Training loss: 1.242676891515378\n",
      "Epoch 49 - Training loss: 1.2329612483091783\n",
      "\n",
      "Training Time (in minutes) = 2.8099567612012226\n"
     ]
    }
   ],
   "source": [
    "criterion = nn.NLLLoss()\n",
    "images, labels = next(iter(train_data))\n",
    "images = images.reshape(images.shape[0], -1)\n",
    "logps = model(images) \n",
    "print(images.shape, labels.shape)\n",
    "loss = criterion(logps, labels)\n",
    "\n",
    "\n",
    "optimizer = optim.SGD(model.parameters(), lr=0.0001, momentum=0.925)\n",
    "time0 = time()\n",
    "epochs = 50\n",
    "for e in range(epochs):\n",
    "    running_loss = 0\n",
    "    for images, labels in train_data:\n",
    "        images = images.reshape(images.shape[0], -1)\n",
    "    \n",
    "        optimizer.zero_grad()\n",
    "        \n",
    "        output = model(images)\n",
    "        loss = criterion(output, labels)\n",
    "        \n",
    "        loss.backward()\n",
    "        \n",
    "        optimizer.step()\n",
    "        \n",
    "        running_loss += loss.item()\n",
    "    else:\n",
    "        print(\"Epoch {} - Training loss: {}\".format(e, running_loss/len(train_data)))\n",
    "\n",
    "print(\"\\nTraining Time (in minutes) =\",(time()-time0)/60)"
   ]
  },
  {
   "cell_type": "code",
   "execution_count": 13,
   "id": "b2ab81cb",
   "metadata": {},
   "outputs": [
    {
     "name": "stdout",
     "output_type": "stream",
     "text": [
      "Number Of Images Tested = 860\n",
      "\n",
      "Model Accuracy = 0.7093023255813954\n"
     ]
    }
   ],
   "source": [
    "valloader = TrainDatasetFromImages('data/training/labels-tab-csv.csv')\n",
    "\n",
    "correct_count, all_count = 0, 0\n",
    "for images,labels in valloader:\n",
    "  for i in range(len(labels)):\n",
    "    img = images[i].reshape(1, 2520)\n",
    "    with torch.no_grad():\n",
    "        logps = model(img)\n",
    "\n",
    "    \n",
    "    ps = torch.exp(logps)\n",
    "    probab = list(ps.numpy()[0])\n",
    "    pred_label = probab.index(max(probab))\n",
    "    #print(pred_label)\n",
    "    \n",
    "    true_label = labels.numpy()[i]\n",
    "    if(true_label == pred_label):\n",
    "      correct_count += 1\n",
    "    all_count += 1\n",
    "\n",
    "print(\"Number Of Images Tested =\", all_count)\n",
    "print(\"\\nModel Accuracy =\", (correct_count/all_count))\n",
    "\n"
   ]
  },
  {
   "cell_type": "code",
   "execution_count": 14,
   "id": "f67b0e92",
   "metadata": {},
   "outputs": [
    {
     "name": "stdout",
     "output_type": "stream",
     "text": [
      "[2, 4, 3, 10, 3, 8, 4, 4, 8, 8, 8, 6, 2, 6, 4, 6, 4, 3, 9, 4, 7, 6, 6, 4, 4, 4, 10, 9, 5, 8, 8, 4, 10, 5, 8, 1, 5, 8, 5, 6, 4, 7, 8, 8, 3, 4, 9, 8, 8, 7, 3, 7, 8, 8, 3, 8, 4, 5, 3, 9, 10, 4, 5, 8, 3, 3, 3, 4, 4, 8, 3, 10, 4, 8, 6, 3, 4, 8, 9, 9, 4, 8, 8, 7, 1, 7, 3, 4, 8, 3, 8, 3, 5, 3, 8, 5, 8, 4, 4, 3]\n"
     ]
    }
   ],
   "source": [
    "filelist = glob.glob('data/Toy_test/*.png')\n",
    "\n",
    "test_data = []\n",
    "\n",
    "for x in filelist:\n",
    "    img = Image.open(x)\n",
    "    t = transforms.Resize((60,171))\n",
    "    t1 = transforms.ToTensor()\n",
    "        \n",
    "    img = t(img)\n",
    "        \n",
    "    # Transform image to tensor\n",
    "    img = t1(img)\n",
    "        \n",
    "    img = img[:,15:45,15:99]\n",
    "    #img = torch.tensor([img], dtype=torch.long)\n",
    "    test_data.append(img.squeeze())\n",
    "    \n",
    "\n",
    "predictions = []\n",
    "for i in range(len(test_data)):\n",
    "    img = test_data[i].reshape(1, 2520)\n",
    "    with torch.no_grad():\n",
    "        logps = model(img)\n",
    "\n",
    "    \n",
    "    ps = torch.exp(logps)\n",
    "    probab = list(ps.numpy()[0])\n",
    "    pred_label = probab.index(max(probab))\n",
    "    predictions.append(pred_label)\n",
    "\n",
    "with open('predictions', 'w') as f:\n",
    "    # create the csv writer\n",
    "    writer = csv.writer(f)\n",
    "\n",
    "    print(predictions)\n",
    "    \n",
    "    writer.writerows([i] for i in predictions)\n",
    "#plt.imshow(test_data[30][0].numpy().squeeze(), cmap='gray_r');\n",
    "#print(test_data[30])"
   ]
  },
  {
   "cell_type": "code",
   "execution_count": null,
   "id": "e77b9871",
   "metadata": {},
   "outputs": [],
   "source": []
  }
 ],
 "metadata": {
  "interpreter": {
   "hash": "9c78ec32882fec3732283487fdfd7d674f06b29a7008e74a9001c2d4eacc3c0a"
  },
  "kernelspec": {
   "display_name": "Python 3.10.4 64-bit (windows store)",
   "language": "python",
   "name": "python3"
  },
  "language_info": {
   "codemirror_mode": {
    "name": "ipython",
    "version": 3
   },
   "file_extension": ".py",
   "mimetype": "text/x-python",
   "name": "python",
   "nbconvert_exporter": "python",
   "pygments_lexer": "ipython3",
   "version": "3.10.4"
  }
 },
 "nbformat": 4,
 "nbformat_minor": 5
}
